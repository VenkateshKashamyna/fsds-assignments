{
 "cells": [
  {
   "cell_type": "code",
   "execution_count": 7,
   "id": "6c9247b1",
   "metadata": {},
   "outputs": [
    {
     "name": "stdout",
     "output_type": "stream",
     "text": [
      "apple\torange\n",
      "apple\n",
      "orange\n",
      "It's raining\n",
      "\"hello\"\n",
      "\"\\\" is the backslash\n"
     ]
    }
   ],
   "source": [
    "#Q1. What are escape characters, and how do you use them?\n",
    "\"\"\"ANS: In Python strings, the backslash \"\\\" is a special character, also called the \"escape\" character. \n",
    "It is used in representing certain whitespace characters: \"\\t\" is a tab, \"\\n\" is a newline, and \"\\r\" is a carriage return.\"\"\"\n",
    "\n",
    "print('apple\\torange')\n",
    "print('apple\\norange')\n",
    "\n",
    "\"\"\"Conversely, prefixing a special character with \"\\\" turns it into an ordinary character. \n",
    "This is called \"escaping\". For example, \"\\'\" is the single quote character. \n",
    "'It\\'s raining' therefore is a valid string and equivalent to \"It's raining\". Likewise, '\"' can be escaped: \"\\\"hello\\\"\" is a string begins and ends with the literal double quote character. \n",
    "Finally, \"\\\" can be used to escape itself: \"\\\\\" is the literal backslash character.\"\"\"\n",
    "\n",
    "print('It\\'s raining')     \n",
    "'It\\'s raining'            # Same string specified differently\n",
    "print(\"\\\"hello\\\"\")\n",
    "print('\"\\\\\" is the backslash')   "
   ]
  },
  {
   "cell_type": "code",
   "execution_count": 10,
   "id": "ee157146",
   "metadata": {},
   "outputs": [
    {
     "ename": "SyntaxError",
     "evalue": "unexpected character after line continuation character (Temp/ipykernel_8132/1844319537.py, line 2)",
     "output_type": "error",
     "traceback": [
      "\u001b[1;36m  File \u001b[1;32m\"C:\\Users\\vkashamy\\AppData\\Local\\Temp/ipykernel_8132/1844319537.py\"\u001b[1;36m, line \u001b[1;32m2\u001b[0m\n\u001b[1;33m    ANS \\n is a newline; \\t is a tab\u001b[0m\n\u001b[1;37m                                   ^\u001b[0m\n\u001b[1;31mSyntaxError\u001b[0m\u001b[1;31m:\u001b[0m unexpected character after line continuation character\n"
     ]
    }
   ],
   "source": [
    "#Q2. What do the escape characters n and t stand for?\n",
    "ANS: \\n is a newline; \\t is a tab"
   ]
  },
  {
   "cell_type": "code",
   "execution_count": 6,
   "id": "f69286b4",
   "metadata": {},
   "outputs": [
    {
     "name": "stdout",
     "output_type": "stream",
     "text": [
      "\"\\\" is the backslash\n"
     ]
    }
   ],
   "source": [
    "#Q3. What is the way to include backslash characters in a string?\n",
    "'ANS: The \\\\ escape character will represent a backslash character'\n",
    "print('\"\\\\\" is the backslash')"
   ]
  },
  {
   "cell_type": "code",
   "execution_count": 9,
   "id": "fd83d237",
   "metadata": {},
   "outputs": [
    {
     "ename": "SyntaxError",
     "evalue": "invalid syntax (Temp/ipykernel_18164/4185047497.py, line 2)",
     "output_type": "error",
     "traceback": [
      "\u001b[1;36m  File \u001b[1;32m\"C:\\Users\\vkashamy\\AppData\\Local\\Temp/ipykernel_18164/4185047497.py\"\u001b[1;36m, line \u001b[1;32m2\u001b[0m\n\u001b[1;33m    ANS: The single quote in Howl's is fine because we have used double quotes to mark the beginning and end of the string.\u001b[0m\n\u001b[1;37m             ^\u001b[0m\n\u001b[1;31mSyntaxError\u001b[0m\u001b[1;31m:\u001b[0m invalid syntax\n"
     ]
    }
   ],
   "source": [
    "#Q4. The string \"Howl's Moving Castle\" is a correct value. Why isn't the single quote character in the word Howl's not escaped a problem?\n",
    "ANS: The single quote in Howl's is fine because we have used double quotes to mark the beginning and end of the string.\n"
   ]
  },
  {
   "cell_type": "code",
   "execution_count": 12,
   "id": "7ac4bec5",
   "metadata": {},
   "outputs": [
    {
     "data": {
      "text/plain": [
       "\"Howl's Moving Castle\""
      ]
     },
     "execution_count": 12,
     "metadata": {},
     "output_type": "execute_result"
    }
   ],
   "source": [
    "\"Howl's Moving Castle\"\n"
   ]
  },
  {
   "cell_type": "code",
   "execution_count": 13,
   "id": "cd55e686",
   "metadata": {},
   "outputs": [
    {
     "ename": "SyntaxError",
     "evalue": "invalid syntax (Temp/ipykernel_18164/2057793136.py, line 1)",
     "output_type": "error",
     "traceback": [
      "\u001b[1;36m  File \u001b[1;32m\"C:\\Users\\vkashamy\\AppData\\Local\\Temp/ipykernel_18164/2057793136.py\"\u001b[1;36m, line \u001b[1;32m1\u001b[0m\n\u001b[1;33m    'Howl's Moving Castle'\u001b[0m\n\u001b[1;37m          ^\u001b[0m\n\u001b[1;31mSyntaxError\u001b[0m\u001b[1;31m:\u001b[0m invalid syntax\n"
     ]
    }
   ],
   "source": [
    "'Howl's Moving Castle'"
   ]
  },
  {
   "cell_type": "code",
   "execution_count": 14,
   "id": "95d107fa",
   "metadata": {},
   "outputs": [
    {
     "ename": "SyntaxError",
     "evalue": "invalid syntax (Temp/ipykernel_18164/2391565682.py, line 2)",
     "output_type": "error",
     "traceback": [
      "\u001b[1;36m  File \u001b[1;32m\"C:\\Users\\vkashamy\\AppData\\Local\\Temp/ipykernel_18164/2391565682.py\"\u001b[1;36m, line \u001b[1;32m2\u001b[0m\n\u001b[1;33m    ANS: Multiline strings allow you to use newlines in strings without the \\n escape character.\u001b[0m\n\u001b[1;37m                   ^\u001b[0m\n\u001b[1;31mSyntaxError\u001b[0m\u001b[1;31m:\u001b[0m invalid syntax\n"
     ]
    }
   ],
   "source": [
    "#Q5. How do you write a string of newlines if you don't want to use the n character?\n",
    "ANS: Multiline strings allow you to use newlines in strings without the \\n escape character."
   ]
  },
  {
   "cell_type": "code",
   "execution_count": 21,
   "id": "fbc0772c",
   "metadata": {},
   "outputs": [
    {
     "data": {
      "text/plain": [
       "'e'"
      ]
     },
     "execution_count": 21,
     "metadata": {},
     "output_type": "execute_result"
    }
   ],
   "source": [
    "#6. What are the values of the given expressions?\n",
    "'Hello, world!'[1]"
   ]
  },
  {
   "cell_type": "code",
   "execution_count": 17,
   "id": "c4ad7793",
   "metadata": {},
   "outputs": [
    {
     "data": {
      "text/plain": [
       "'Hello'"
      ]
     },
     "execution_count": 17,
     "metadata": {},
     "output_type": "execute_result"
    }
   ],
   "source": [
    "'Hello, world!'[0:5]"
   ]
  },
  {
   "cell_type": "code",
   "execution_count": 18,
   "id": "a7b9bc82",
   "metadata": {},
   "outputs": [
    {
     "data": {
      "text/plain": [
       "'Hello'"
      ]
     },
     "execution_count": 18,
     "metadata": {},
     "output_type": "execute_result"
    }
   ],
   "source": [
    "'Hello, world!'[:5]"
   ]
  },
  {
   "cell_type": "code",
   "execution_count": 19,
   "id": "6986c3ae",
   "metadata": {},
   "outputs": [
    {
     "data": {
      "text/plain": [
       "'lo, world!'"
      ]
     },
     "execution_count": 19,
     "metadata": {},
     "output_type": "execute_result"
    }
   ],
   "source": [
    "'Hello, world!'[3:]\n"
   ]
  },
  {
   "cell_type": "code",
   "execution_count": 22,
   "id": "0a500874",
   "metadata": {},
   "outputs": [
    {
     "data": {
      "text/plain": [
       "'HELLO'"
      ]
     },
     "execution_count": 22,
     "metadata": {},
     "output_type": "execute_result"
    }
   ],
   "source": [
    "#Q7. What are the values of the following expressions?\n",
    "'Hello'.upper()"
   ]
  },
  {
   "cell_type": "code",
   "execution_count": 25,
   "id": "894753f2",
   "metadata": {},
   "outputs": [
    {
     "data": {
      "text/plain": [
       "True"
      ]
     },
     "execution_count": 25,
     "metadata": {},
     "output_type": "execute_result"
    }
   ],
   "source": [
    "'Hello'.upper().isupper()"
   ]
  },
  {
   "cell_type": "code",
   "execution_count": 26,
   "id": "36884baf",
   "metadata": {},
   "outputs": [
    {
     "data": {
      "text/plain": [
       "'hello'"
      ]
     },
     "execution_count": 26,
     "metadata": {},
     "output_type": "execute_result"
    }
   ],
   "source": [
    "'Hello'.upper().lower()"
   ]
  },
  {
   "cell_type": "code",
   "execution_count": 28,
   "id": "98ce8af8",
   "metadata": {},
   "outputs": [
    {
     "data": {
      "text/plain": [
       "['Remember,', 'remember,', 'the', 'fifth', 'of', 'July.']"
      ]
     },
     "execution_count": 28,
     "metadata": {},
     "output_type": "execute_result"
    }
   ],
   "source": [
    "#Q8. What are the values of the following expressions?\n",
    "'Remember, remember, the fifth of July.'.split()"
   ]
  },
  {
   "cell_type": "code",
   "execution_count": 29,
   "id": "3cf5f0bf",
   "metadata": {},
   "outputs": [
    {
     "data": {
      "text/plain": [
       "'There-can-only-one.'"
      ]
     },
     "execution_count": 29,
     "metadata": {},
     "output_type": "execute_result"
    }
   ],
   "source": [
    "'-'.join('There can only one.'.split())"
   ]
  },
  {
   "cell_type": "code",
   "execution_count": 45,
   "id": "ee604166",
   "metadata": {},
   "outputs": [
    {
     "name": "stdout",
     "output_type": "stream",
     "text": [
      "The original string is : \n",
      " I love python \n",
      "\n",
      "The right aligned string is : \n",
      "-------I love python\n",
      "       I love python\n",
      "The left aligned string is : \n",
      "I love python-------\n",
      "I love python       \n",
      "The center aligned string is :\n",
      "cstr.center(40),'\n",
      "'\n",
      "#############I love python##############\n"
     ]
    }
   ],
   "source": [
    "#Q9. What are the methods for right-justifying, left-justifying, and centering a string?\n",
    "\n",
    "'right-justifying'\n",
    "\n",
    "rstr = \"I love python\"\n",
    "print(\"The original string is : \\n\", rstr, \"\\n\")\n",
    "print(\"The right aligned string is : \")\n",
    "print(rstr.rjust(20,'-'))\n",
    "print(rstr.rjust(20))\n",
    "\n",
    "\n",
    "'left-justifying'\n",
    "\n",
    "lstr = \"I love python\"\n",
    "print(\"The left aligned string is : \")\n",
    "print(lstr.ljust(20,'-'))\n",
    "print(lstr.ljust(20))\n",
    "\n",
    "'centering a string'\n",
    "\n",
    "cstr = \"I love python\"\n",
    "print(\"The center aligned string is :\")\n",
    "print(\"cstr.center(40),'\\n'\")\n",
    "print(cstr.center(40,'#'))   #\n",
    "\n"
   ]
  },
  {
   "cell_type": "code",
   "execution_count": 46,
   "id": "04403b28",
   "metadata": {},
   "outputs": [
    {
     "name": "stdout",
     "output_type": "stream",
     "text": [
      "string after  stripping all '-' is :  ILovePython\n",
      "string after stripping all leading '-' is :  ILovePython---\n",
      "string after stripping all trailing '-' is :  ---ILovePython\n"
     ]
    }
   ],
   "source": [
    "#Q10. What is the best way to remove whitespace characters from the start or end?\n",
    " \n",
    "'strip(): deletes all the leading and trailing characters'\n",
    "\n",
    "str = '---ILovePython---'\n",
    "print(\"string after  stripping all '-' is : \", end = ' ')\n",
    "print(str.strip('-'))  # strip() to delete all '-'\n",
    "\n",
    "print(\"string after stripping all leading '-' is : \", end = ' ')\n",
    "print(str.lstrip('-')) # lstrip() to delete all leading '-' \n",
    "\n",
    "print(\"string after stripping all trailing '-' is : \", end = ' ')\n",
    "print(str.rstrip('-')) # rstrip() to delete all trailing '-'\n",
    "\n"
   ]
  },
  {
   "cell_type": "code",
   "execution_count": null,
   "id": "5581876f",
   "metadata": {},
   "outputs": [],
   "source": []
  }
 ],
 "metadata": {
  "kernelspec": {
   "display_name": "Python 3 (ipykernel)",
   "language": "python",
   "name": "python3"
  },
  "language_info": {
   "codemirror_mode": {
    "name": "ipython",
    "version": 3
   },
   "file_extension": ".py",
   "mimetype": "text/x-python",
   "name": "python",
   "nbconvert_exporter": "python",
   "pygments_lexer": "ipython3",
   "version": "3.9.7"
  }
 },
 "nbformat": 4,
 "nbformat_minor": 5
}

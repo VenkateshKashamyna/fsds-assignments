{
 "cells": [
  {
   "cell_type": "code",
   "execution_count": null,
   "id": "bf710c7e",
   "metadata": {},
   "outputs": [],
   "source": [
    "Q1. What exactly is []?\n",
    "ANS:The empty list value, which is a list value that contains no items. This is similar to how '' is the empty string value."
   ]
  },
  {
   "cell_type": "code",
   "execution_count": null,
   "id": "f19c909c",
   "metadata": {},
   "outputs": [],
   "source": [
    "2. In a list of values stored in a variable called spam, how would you assign the value 'hello' as the third value? (Assume [2, 4, 6, 8, 10] are in spam.)\n",
    "ANS: spam[2] = 'hello' (Notice that the third value in a list is at index 2 because the first index is 0.)"
   ]
  },
  {
   "cell_type": "code",
   "execution_count": 1,
   "id": "4aa2d46d",
   "metadata": {},
   "outputs": [],
   "source": [
    "#Let's pretend the spam includes the list ['a', 'b', 'c', 'd'] for the next three queries."
   ]
  },
  {
   "cell_type": "code",
   "execution_count": null,
   "id": "4088961f",
   "metadata": {},
   "outputs": [],
   "source": [
    "Q3. What is the value of spam[int(int('3' * 2) / 11)]?\n",
    "ANS: 'd' (Note that '3' * 2 is the string '33', which is passed to int() before being divided by 11. This eventually evaluates to 3. Expressions can be used wherever values are used.)"
   ]
  },
  {
   "cell_type": "code",
   "execution_count": null,
   "id": "709e4fb9",
   "metadata": {},
   "outputs": [],
   "source": [
    "Q4. What is the value of spam[-1]?\n",
    "ANS: 'd' (Negative indexes count from the end.)"
   ]
  },
  {
   "cell_type": "code",
   "execution_count": null,
   "id": "bebffce9",
   "metadata": {},
   "outputs": [],
   "source": [
    "Q5. What is the value of spam[:2]?\n",
    "ANS: ['a', 'b']"
   ]
  },
  {
   "cell_type": "code",
   "execution_count": null,
   "id": "c6f1802a",
   "metadata": {},
   "outputs": [],
   "source": [
    "Let's pretend bacon has the list [3.14, 'cat,' 11, 'cat,' True] for the next three questions."
   ]
  },
  {
   "cell_type": "code",
   "execution_count": null,
   "id": "82ce4b68",
   "metadata": {},
   "outputs": [],
   "source": [
    "6. What is the value of bacon.index('cat')?\n",
    "ANS: 1"
   ]
  },
  {
   "cell_type": "code",
   "execution_count": null,
   "id": "a79fec92",
   "metadata": {},
   "outputs": [],
   "source": [
    "Q7. How does bacon.append(99) change the look of the list value in bacon?\n",
    "ANS: [3.14, 'cat', 11, 'cat', True, 99]"
   ]
  },
  {
   "cell_type": "code",
   "execution_count": null,
   "id": "6e32f1ce",
   "metadata": {},
   "outputs": [],
   "source": [
    "Q8. How does bacon.remove('cat') change the look of the list in bacon?\n",
    "ANS: [3.14, 11, 'cat', True]"
   ]
  },
  {
   "cell_type": "code",
   "execution_count": null,
   "id": "37c7b6bf",
   "metadata": {},
   "outputs": [],
   "source": [
    "Q9. What are the list concatenation and list replication operators?\n",
    "The operator for list concatenation is +, while the operator for replication is *. (This is the same as for strings.)"
   ]
  },
  {
   "cell_type": "code",
   "execution_count": 2,
   "id": "d56cdf72",
   "metadata": {},
   "outputs": [
    {
     "name": "stdout",
     "output_type": "stream",
     "text": [
      "[1, 2, 3, [2, 3]]\n",
      "[1, 2, 3, [2, 3]]\n",
      "[1, 2, 3, 2, 3]\n"
     ]
    }
   ],
   "source": [
    "#10. What is difference between the list methods append() and insert()?\n",
    "\"\"\"ANS: In list, the element passed as an arguement is appended to the end of the list but in insert, the element passed as the arguement can be inserted at any desired position by passing the index along with it as a parameter.    \n",
    "While append() will add values only to the end of a list, insert() can add them anywhere in the list.\n",
    "Example:\"\"\"\n",
    "list_1 = [1,2,3]\n",
    "list_2 = [1,2,3]\n",
    "list_3 = [1,2,3]\n",
    "a = [2,3]\n",
    "list_1.append(a)\n",
    "list_2.insert(3,a)\n",
    "list_3.extend(a)\n",
    "print(list_1)\n",
    "print(list_2)\n",
    "print(list_3)\n"
   ]
  },
  {
   "cell_type": "code",
   "execution_count": 3,
   "id": "f22652ae",
   "metadata": {},
   "outputs": [
    {
     "name": "stdout",
     "output_type": "stream",
     "text": [
      "['geeks', 'for', 'geeks']\n"
     ]
    }
   ],
   "source": [
    "l = ['geeks']\n",
    "l.append('for')\n",
    "l.append('geeks')\n",
    "print(l)"
   ]
  },
  {
   "cell_type": "code",
   "execution_count": 4,
   "id": "0ed27d9b",
   "metadata": {},
   "outputs": [
    {
     "name": "stdout",
     "output_type": "stream",
     "text": [
      "['geeks', 'for', 'geeks']\n"
     ]
    }
   ],
   "source": [
    "l = ['geeks', 'geeks']\n",
    "l.insert(1, 'for')\n",
    "print(l)"
   ]
  },
  {
   "cell_type": "code",
   "execution_count": 5,
   "id": "b23ee868",
   "metadata": {},
   "outputs": [
    {
     "name": "stdout",
     "output_type": "stream",
     "text": [
      "['hello', 'welcome', 'to', 'geeks', 'for', 'geeks']\n"
     ]
    }
   ],
   "source": [
    "l = ['hello', 'welcome', 'to']\n",
    "l.extend(['geeks', 'for', 'geeks'])\n",
    "print(l)"
   ]
  },
  {
   "cell_type": "code",
   "execution_count": 2,
   "id": "08f30a3e",
   "metadata": {},
   "outputs": [
    {
     "name": "stdout",
     "output_type": "stream",
     "text": [
      "list elements after deleting are :  2 1 3 8 \r\n",
      "list elements after popping are :  2 1 8 \r\n",
      "list elements after removing are:  2 1 5 4 3 8 "
     ]
    }
   ],
   "source": [
    "#Q11. What are the two methods for removing items from a list?\n",
    "\"\"\"ANS: del[a:b]: This method deletes all the elements in range starting from index 'a' till 'b' mentioned in arguements.\n",
    "     pop() method deletes the element at the position mentioned in its arguements.\n",
    "     remove() function is used to delete the first occurence of number mentioned in its arguements\"\"\"\n",
    "list = [2,1,3,5,4,3,8]\n",
    "del list[2:5]\n",
    "print(\"list elements after deleting are : \", end=\" \")\n",
    "for i in range(0, len(list)):\n",
    "    print(list[i],end=' ') \n",
    "print(\"\\r\")    \n",
    "list.pop(2)    \n",
    "print(\"list elements after popping are : \", end=\" \") \n",
    "for i in range (0, len(list)):\n",
    "    print(list[i], end=\" \")\n",
    "print(\"\\r\")\n",
    "list = [2,1,3,5,4,3,8]\n",
    "list.remove(3)\n",
    "print(\"list elements after removing are: \",end=\" \")\n",
    "for i in range(0, len(list)):\n",
    "    print(list[i], end=\" \")"
   ]
  },
  {
   "cell_type": "code",
   "execution_count": null,
   "id": "315ce553",
   "metadata": {},
   "outputs": [],
   "source": [
    "Q12. Describe how list values and string values are identical.\n",
    "ANS: Both lists and strings can be passed to len(), have indexes and slices, be used in for loops, be concatenated or replicated, and be used with the in and not in operators."
   ]
  },
  {
   "cell_type": "code",
   "execution_count": null,
   "id": "9a28691d",
   "metadata": {},
   "outputs": [],
   "source": [
    "Q13. What's the difference between tuples and lists?\n",
    "ANS: The list is dynamic, whereas the tuple has static characteristics.\n",
    "List: is just like the arrays, declared in other languages. Lists need not be homogeneous always which makes it the most powerful\n",
    "tool in python. In python, the list is a type of container in data structures, which is used to store multiple data at the same\n",
    "time. Lists are a useful tool for prederving a sequence of data and further iterating over it.\n",
    "\n",
    "syntax: List_data = ['an','example','of','a','list']\n",
    "    \n",
    "Tuple: is also a sequence data type that can contain elements of different data types, but these are immutable in nature. In other words,\n",
    "a tuple is a collection of python objects seperated by commas. The tuple is faster than the list because of static in nature. \n",
    "\n",
    "syntax: tuple_index = ('this', 'is', 'an', 'example', 'of', 'tuple')\n",
    "    \n",
    "Lists are mutable but tuples are immutable.\n",
    "Implication of iterations is time-consuming but in tuples implication of iterations is comparatively faster.\n",
    "The list is better for performing operations, such as insertion and deletion but tuple data type is appropriate for accessing elements.\n",
    "Lists consume more memory but tuple consume less memory as compared to the list.\n",
    "Lists have several built-in methods but tuple does not have many built-in methods.\n",
    "The unexpected changes and errors are more likely to occur but in tuple, it is hard to take place.\n"
   ]
  },
  {
   "cell_type": "code",
   "execution_count": 5,
   "id": "1c5907d3",
   "metadata": {},
   "outputs": [
    {
     "name": "stdout",
     "output_type": "stream",
     "text": [
      "[1, 2, 3, 4]\n",
      "(1, 2, 3, 4)\n",
      "[1, 2, 5, 4]\n"
     ]
    },
    {
     "ename": "TypeError",
     "evalue": "'tuple' object does not support item assignment",
     "output_type": "error",
     "traceback": [
      "\u001b[1;31m---------------------------------------------------------------------------\u001b[0m",
      "\u001b[1;31mTypeError\u001b[0m                                 Traceback (most recent call last)",
      "\u001b[1;32m~\\AppData\\Local\\Temp/ipykernel_8904/1706911487.py\u001b[0m in \u001b[0;36m<module>\u001b[1;34m\u001b[0m\n\u001b[0;32m      5\u001b[0m \u001b[0mlist_num\u001b[0m\u001b[1;33m[\u001b[0m\u001b[1;36m2\u001b[0m\u001b[1;33m]\u001b[0m \u001b[1;33m=\u001b[0m \u001b[1;36m5\u001b[0m\u001b[1;33m\u001b[0m\u001b[1;33m\u001b[0m\u001b[0m\n\u001b[0;32m      6\u001b[0m \u001b[0mprint\u001b[0m\u001b[1;33m(\u001b[0m\u001b[0mlist_num\u001b[0m\u001b[1;33m)\u001b[0m\u001b[1;33m\u001b[0m\u001b[1;33m\u001b[0m\u001b[0m\n\u001b[1;32m----> 7\u001b[1;33m \u001b[0mtup_num\u001b[0m\u001b[1;33m[\u001b[0m\u001b[1;36m2\u001b[0m\u001b[1;33m]\u001b[0m \u001b[1;33m=\u001b[0m \u001b[1;36m5\u001b[0m\u001b[1;33m\u001b[0m\u001b[1;33m\u001b[0m\u001b[0m\n\u001b[0m",
      "\u001b[1;31mTypeError\u001b[0m: 'tuple' object does not support item assignment"
     ]
    }
   ],
   "source": [
    "list_num = [1,2,3,4]\n",
    "tup_num = (1,2,3,4)\n",
    "print(list_num)\n",
    "print(tup_num)\n",
    "list_num[2] = 5\n",
    "print(list_num)\n",
    "tup_num[2] = 5"
   ]
  },
  {
   "cell_type": "code",
   "execution_count": null,
   "id": "5b3a568a",
   "metadata": {},
   "outputs": [],
   "source": [
    "In above code we assigned 5 to list_num at index 2 and we found 5 at index 2 in output. Also, we assigned 5 to tup_num at index 2\n",
    "and got type error. We can't modify the tuple due to its immutable nature."
   ]
  },
  {
   "cell_type": "code",
   "execution_count": 12,
   "id": "a3d9a173",
   "metadata": {},
   "outputs": [
    {
     "data": {
      "text/plain": [
       "(42,)"
      ]
     },
     "execution_count": 12,
     "metadata": {},
     "output_type": "execute_result"
    }
   ],
   "source": [
    "#Q14. How do you type a tuple value that only contains the integer 42?\n",
    "t = 42,\n",
    "t\n",
    "t = (42,)\n",
    "t"
   ]
  },
  {
   "cell_type": "code",
   "execution_count": null,
   "id": "7af55ab7",
   "metadata": {},
   "outputs": [],
   "source": [
    "Q15. How do you get a list value's tuple form? How do you get a tuple value's list form?\n",
    "ANS: By using the tuple() and list() functions, respectively"
   ]
  },
  {
   "cell_type": "code",
   "execution_count": null,
   "id": "47be2be7",
   "metadata": {},
   "outputs": [],
   "source": [
    "Q16. Variables that \"contain\" list values are not necessarily lists themselves. Instead, what do they contain?\n",
    "ANS: Variables will contain references to list values rather than list values themselves. But for strings and integer values, variables simply contain the string or integer value. "
   ]
  },
  {
   "cell_type": "code",
   "execution_count": 15,
   "id": "de229240",
   "metadata": {},
   "outputs": [
    {
     "name": "stdout",
     "output_type": "stream",
     "text": [
      "The original elements before deep copying\n",
      "1 2 [3, 5] 4 \r\n",
      "The new list of elements after deep copying \n",
      "1 2 [7, 5] 4 \r\n",
      "The original elements after deep copying\n",
      "1 2 [3, 5] 4 "
     ]
    }
   ],
   "source": [
    "#Q17. How do you distinguish between copy.copy() and copy.deepcopy()?\n",
    "\"\"\"The copy.copy() function will do a shallow copy of a list, while the copy.deepcopy() function will do a deep copy of a list.\n",
    "That is, only copy.deepcopy() will duplicate any lists inside the list.\"\"\"\n",
    " # Python code to demonstrate copy operations\n",
    "\n",
    "# importing \"copy\" for copy operations\n",
    "import copy\n",
    "\n",
    "# initializing list 1\n",
    "list1 = [1, 2, [3,5], 4]\n",
    "\n",
    "# using deepcopy to deep copy\n",
    "list2 = copy.deepcopy(li1)\n",
    "\n",
    "# original elements of list\n",
    "print (\"The original elements before deep copying\")\n",
    "for i in range(0,len(list1)):\n",
    "\tprint (list1[i],end=\" \")\n",
    "\n",
    "print(\"\\r\")\n",
    "\n",
    "# adding and element to new list\n",
    "list2[2][0] = 7\n",
    "\n",
    "# Change is reflected in l2\n",
    "print (\"The new list of elements after deep copying \")\n",
    "for i in range(0,len( list1)):\n",
    "\tprint (list2[i],end=\" \")\n",
    "\n",
    "print(\"\\r\")\n",
    "\n",
    "# Change is NOT reflected in original list\n",
    "# as it is a deep copy\n",
    "print (\"The original elements after deep copying\")\n",
    "for i in range(0,len( list1)):\n",
    "\tprint (list1[i],end=\" \")\n"
   ]
  },
  {
   "cell_type": "code",
   "execution_count": 16,
   "id": "2ef5048f",
   "metadata": {},
   "outputs": [
    {
     "name": "stdout",
     "output_type": "stream",
     "text": [
      "The original elements before shallow copying\n",
      "1 2 [3, 5] 4 \r\n",
      "The original elements after shallow copying\n",
      "1 2 [3, 5] 4 "
     ]
    }
   ],
   "source": [
    "# Python code to demonstrate copy operations\n",
    "\n",
    "# importing \"copy\" for copy operations\n",
    "import copy\n",
    "\n",
    "# initializing list 1\n",
    "list1 = [1, 2, [3,5], 4]\n",
    "\n",
    "# using copy to shallow copy\n",
    "list2 = copy.copy(li1)\n",
    "\n",
    "# original elements of list\n",
    "print (\"The original elements before shallow copying\")\n",
    "for i in range(0,len(list1)):\n",
    "\tprint (list1[i],end=\" \")\n",
    "\n",
    "print(\"\\r\")\n",
    "\n",
    "# adding and element to new list\n",
    "li2[2][0] = 7\n",
    "\n",
    "# checking if change is reflected\n",
    "print (\"The original elements after shallow copying\")\n",
    "for i in range(0,len( list1)):\n",
    "\tprint (list1[i],end=\" \")\n"
   ]
  },
  {
   "cell_type": "code",
   "execution_count": null,
   "id": "fff0300c",
   "metadata": {},
   "outputs": [],
   "source": []
  }
 ],
 "metadata": {
  "kernelspec": {
   "display_name": "Python 3 (ipykernel)",
   "language": "python",
   "name": "python3"
  },
  "language_info": {
   "codemirror_mode": {
    "name": "ipython",
    "version": 3
   },
   "file_extension": ".py",
   "mimetype": "text/x-python",
   "name": "python",
   "nbconvert_exporter": "python",
   "pygments_lexer": "ipython3",
   "version": "3.9.7"
  }
 },
 "nbformat": 4,
 "nbformat_minor": 5
}

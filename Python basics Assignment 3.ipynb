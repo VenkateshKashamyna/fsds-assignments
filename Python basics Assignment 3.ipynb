{
 "cells": [
  {
   "cell_type": "code",
   "execution_count": null,
   "id": "2e35d02a",
   "metadata": {},
   "outputs": [],
   "source": [
    "Q1.Why are functions advantageous to have in your programs?\n",
    "ANS:  Functions helps to divide the large programs into small groups so that we can read the code, and debug the program faster and better. Python functions stop us from writing the same logic various times. We can bind the logic in one def and then call the same over and over. Many persons can work on the same program by assigning different methods to each of them. It encourages us to call the same method with different inputs over multiple times. Functions reduce the need for duplicate code. This makes program shorter, easier to read, and easier to update.\n"
   ]
  },
  {
   "cell_type": "code",
   "execution_count": null,
   "id": "92231886",
   "metadata": {},
   "outputs": [],
   "source": [
    "Q2. When does the code in a function run: when it's specified or when it's called?\n",
    "\n",
    "ANS:  The code in a function runs or executes  when function is called, not when the function is defined.\n"
   ]
  },
  {
   "cell_type": "code",
   "execution_count": null,
   "id": "27f69579",
   "metadata": {},
   "outputs": [],
   "source": [
    "Q3. What statement creates a function?\n",
    "\n",
    "ANS: Def keyword is used to create a function. \n"
   ]
  },
  {
   "cell_type": "code",
   "execution_count": null,
   "id": "f9a1eb9c",
   "metadata": {},
   "outputs": [],
   "source": [
    "Q4.What is the difference between a function and a function call?\n",
    "\n",
    "ANS:  A function is a block of code that does a particular operation returns a result. It usually accepts inputs as parameters and returns a result. The parameters are not mandatory.\n",
    "E.g: \tfunction add(a,b)\n",
    "\t\treturn a+b\n",
    "A function call is the code used to pass control to a function.\n",
    "E.g: \tb = add(5,6)\n",
    "A function consists of the def statement and the code in its def clause. \n",
    "A function call is what moves the program execution into the function, and the function call evaluates to the function’s return value.\n"
   ]
  },
  {
   "cell_type": "code",
   "execution_count": null,
   "id": "e1e725b9",
   "metadata": {},
   "outputs": [],
   "source": [
    "Q5. How many global scopes are there in a Python program? How many local scopes?\n",
    "ANS: There is only one global python scope per program execution. This scope remains in existence until the program terminates and all its names are forgotten, Otherwise, the next we were to run the program, the names would remember their values from the previous run. \n",
    "There is only one local scope inside a function. Local scope refers to variables defined in current function. Always, a function will first look up for a variable name in its local scope. Only if it does not find it there, the outer scopes are checked\n"
   ]
  },
  {
   "cell_type": "code",
   "execution_count": null,
   "id": "8bde824d",
   "metadata": {},
   "outputs": [],
   "source": [
    "Q6.  What happens to variables in a local scope when the function call returns?\n",
    "ANS: When the execution of the function terminates (returns), the local variables are destroyed.\n"
   ]
  },
  {
   "cell_type": "code",
   "execution_count": null,
   "id": "e28911f5",
   "metadata": {},
   "outputs": [],
   "source": [
    "Q7. What is the concept of a return value? Is it possible to have a return value in an expression?\n",
    "ANS: A python function can return a specified value anywhere within that function by using a return statement, which ends the function under execution and then returns a value to the caller.\n",
    "Yes. we can use any python object as a return value. \n",
    "A return value is the value that a function call evaluates to. Like any value, a return value can be used as part of an expression.\n"
   ]
  },
  {
   "cell_type": "code",
   "execution_count": null,
   "id": "885ac588",
   "metadata": {},
   "outputs": [],
   "source": [
    "Q8. If a function does not have a return statement, what is the return value of a call to that function\n",
    "ANS:  A function without an explicit return statement returns None. In the case of no arguments and  no return value, the definition is very simple. Calling the function is performed by using the call operator ( ) after the name of the function.\n",
    "If there is no return statement for a function, its return value is None.\n"
   ]
  },
  {
   "cell_type": "code",
   "execution_count": null,
   "id": "a1f17b4d",
   "metadata": {},
   "outputs": [],
   "source": [
    "Q9. How do you make a function variable refer to the global variable?\n",
    "ANS: If we want to refer to a global variable in a function, we can use the global keyword to declare which variables are global.\n",
    "A global statement will force a variable in a function to refer to the global variable.\n"
   ]
  },
  {
   "cell_type": "code",
   "execution_count": null,
   "id": "993b81b2",
   "metadata": {},
   "outputs": [],
   "source": [
    "Q10. What is the data type of None?\n",
    "ANS: The data type of None is None Type. None is used to define a null value. It is not the same as an empty string, False, or a zero. It is a data type of the class None Type object. Assigning a value of None to a variable is one way to reset it to its original, empty state.\n"
   ]
  },
  {
   "cell_type": "code",
   "execution_count": null,
   "id": "03d86047",
   "metadata": {},
   "outputs": [],
   "source": [
    "Q11. What does the sentence import areallyourpetsnamederic do?\n",
    "ANS: It will return No module named 'areallyourpetsnamederic'\n"
   ]
  },
  {
   "cell_type": "code",
   "execution_count": null,
   "id": "696f51a6",
   "metadata": {},
   "outputs": [],
   "source": [
    "Q12. If you had a bacon() feature in a spam module, what would you call it after importing spam?\n",
    "ANS: This function can be called with spam.bacon( ).\n"
   ]
  },
  {
   "cell_type": "code",
   "execution_count": null,
   "id": "6811219b",
   "metadata": {},
   "outputs": [],
   "source": [
    "Q13. What can you do to save a programme from crashing if it encounters an error?\n",
    "ANS: Place the line of code that might cause- an error in a try clause.\n"
   ]
  },
  {
   "cell_type": "code",
   "execution_count": null,
   "id": "dc182ae0",
   "metadata": {},
   "outputs": [],
   "source": [
    "Q14. What is the purpose of the try clause? What is the purpose of the except clause?\n",
    "ANS: The code that could potentially cause an error goes in the try clause. The code that executes if an error happens goes in the except clause.\n"
   ]
  }
 ],
 "metadata": {
  "kernelspec": {
   "display_name": "Python 3 (ipykernel)",
   "language": "python",
   "name": "python3"
  },
  "language_info": {
   "codemirror_mode": {
    "name": "ipython",
    "version": 3
   },
   "file_extension": ".py",
   "mimetype": "text/x-python",
   "name": "python",
   "nbconvert_exporter": "python",
   "pygments_lexer": "ipython3",
   "version": "3.9.7"
  }
 },
 "nbformat": 4,
 "nbformat_minor": 5
}

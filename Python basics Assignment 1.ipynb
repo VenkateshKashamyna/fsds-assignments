{
 "cells": [
  {
   "cell_type": "code",
   "execution_count": 8,
   "id": "7be98fa9",
   "metadata": {},
   "outputs": [
    {
     "ename": "SyntaxError",
     "evalue": "invalid syntax (Temp/ipykernel_26192/299049985.py, line 2)",
     "output_type": "error",
     "traceback": [
      "\u001b[1;36m  File \u001b[1;32m\"C:\\Users\\vkashamy\\AppData\\Local\\Temp/ipykernel_26192/299049985.py\"\u001b[1;36m, line \u001b[1;32m2\u001b[0m\n\u001b[1;33m    * : Yes Expression, because it is a multiplication operator.\u001b[0m\n\u001b[1;37m      ^\u001b[0m\n\u001b[1;31mSyntaxError\u001b[0m\u001b[1;31m:\u001b[0m invalid syntax\n"
     ]
    }
   ],
   "source": [
    "#Q1: In the below elements which of them are values or an expression? eg:- values can be integer or string and expressions will be mathematical operators.\n",
    "* : Yes Expression, because it is a multiplication operator.\n",
    "'hello' :Yes  Value, because it is a string.\n",
    "-87.8 : No Value, because it is not an integer.\n",
    "-  : Yes Expression, because it is a subtraction operator\n",
    "/ : Yes Expression, because it is a division operator\n",
    "+ : Yes Expression, because it is a addition operator\n",
    "6 : Yes Value, because it is a multiplication operator\n"
   ]
  },
  {
   "cell_type": "code",
   "execution_count": 9,
   "id": "0453cb26",
   "metadata": {},
   "outputs": [
    {
     "ename": "SyntaxError",
     "evalue": "invalid syntax (Temp/ipykernel_26192/109178415.py, line 2)",
     "output_type": "error",
     "traceback": [
      "\u001b[1;36m  File \u001b[1;32m\"C:\\Users\\vkashamy\\AppData\\Local\\Temp/ipykernel_26192/109178415.py\"\u001b[1;36m, line \u001b[1;32m2\u001b[0m\n\u001b[1;33m    ANS: A string is a character or group of characters where we can store in a variable and in  the variable we can store any type of data we want.\u001b[0m\n\u001b[1;37m           ^\u001b[0m\n\u001b[1;31mSyntaxError\u001b[0m\u001b[1;31m:\u001b[0m invalid syntax\n"
     ]
    }
   ],
   "source": [
    "#Q2. What is the difference between string and variable?\n",
    "ANS: A string is a character or group of characters where we can store in a variable and in  the variable we can store any type of data we want."
   ]
  },
  {
   "cell_type": "code",
   "execution_count": 10,
   "id": "47b27b14",
   "metadata": {},
   "outputs": [
    {
     "ename": "SyntaxError",
     "evalue": "invalid syntax (Temp/ipykernel_26192/2446736759.py, line 2)",
     "output_type": "error",
     "traceback": [
      "\u001b[1;36m  File \u001b[1;32m\"C:\\Users\\vkashamy\\AppData\\Local\\Temp/ipykernel_26192/2446736759.py\"\u001b[1;36m, line \u001b[1;32m2\u001b[0m\n\u001b[1;33m    List: List is an ordered sequence of items. All the items in a list do not need to be of the   same data type.  Example: [1, 0.5, ’sonu’]\u001b[0m\n\u001b[1;37m                     ^\u001b[0m\n\u001b[1;31mSyntaxError\u001b[0m\u001b[1;31m:\u001b[0m invalid syntax\n"
     ]
    }
   ],
   "source": [
    "#Q3. Describe three different data types?\n",
    "List: List is an ordered sequence of items. All the items in a list do not need to be of the   same data type.  Example: [1, 0.5, ’sonu’]\n",
    "Tuple: Tuple is an ordered sequence of items same as a list but tuples are immutable. Tuples once created cannot be modified. Tuples are faster than lists as they can not change dynamically. Example: (‘a’, ‘sonu’, 5, 1+3j) \n",
    "Dictionary: Dictionary is an unordered collection of key-value pairs. It’s used when we have a huge amount of data. Dictionaries are optimized for retrieving data. We must know the key to retrieve the value. Key and value can be of any type. Example: {1:’value’, ‘key1’:’name’, 234:’xyz’, ‘name’:’sonu’, ‘no’:1312, ‘tech’:[“python”,”ML”,”DL”]}\n"
   ]
  },
  {
   "cell_type": "code",
   "execution_count": 11,
   "id": "b52cc3a9",
   "metadata": {},
   "outputs": [
    {
     "ename": "SyntaxError",
     "evalue": "invalid syntax (Temp/ipykernel_26192/2312307867.py, line 2)",
     "output_type": "error",
     "traceback": [
      "\u001b[1;36m  File \u001b[1;32m\"C:\\Users\\vkashamy\\AppData\\Local\\Temp/ipykernel_26192/2312307867.py\"\u001b[1;36m, line \u001b[1;32m2\u001b[0m\n\u001b[1;33m    ANS: An expression is a combination of operators and operands that is interpreted to produce some other value. An expression is evaluated as per the precedence of it’s operators. So that if there is more than one operator in an expression their precedence decides which operation will be performed first.\u001b[0m\n\u001b[1;37m            ^\u001b[0m\n\u001b[1;31mSyntaxError\u001b[0m\u001b[1;31m:\u001b[0m invalid syntax\n"
     ]
    }
   ],
   "source": [
    "#Q4. What is an expression made up of? What do all expressions do?\n",
    "ANS: An expression is a combination of operators and operands that is interpreted to produce some other value. An expression is evaluated as per the precedence of it’s operators. So that if there is more than one operator in an expression their precedence decides which operation will be performed first."
   ]
  },
  {
   "cell_type": "code",
   "execution_count": 12,
   "id": "ef3b49c6",
   "metadata": {},
   "outputs": [
    {
     "ename": "SyntaxError",
     "evalue": "invalid syntax (Temp/ipykernel_26192/1494375515.py, line 2)",
     "output_type": "error",
     "traceback": [
      "\u001b[1;36m  File \u001b[1;32m\"C:\\Users\\vkashamy\\AppData\\Local\\Temp/ipykernel_26192/1494375515.py\"\u001b[1;36m, line \u001b[1;32m2\u001b[0m\n\u001b[1;33m    Ans: An expression is a sequence or combination of values, variables, operators and function calls that always produces or returns a result value. Example: x=5, y=3, z=x+y Here x,y and z are variables, 5 and 3 are values, = and + are operators. An expression always evaluates by itself. A value or a variable all by itself is also considered an expression, because these always evaluates to itself.\u001b[0m\n\u001b[1;37m            ^\u001b[0m\n\u001b[1;31mSyntaxError\u001b[0m\u001b[1;31m:\u001b[0m invalid syntax\n"
     ]
    }
   ],
   "source": [
    "#Q5. This assignment statements, like spam = 10. What is the difference between an expression and a statement?\n",
    "Ans: An expression is a sequence or combination of values, variables, operators and function calls that always produces or returns a result value. Example: x=5, y=3, z=x+y Here x,y and z are variables, 5 and 3 are values, = and + are operators. An expression always evaluates by itself. A value or a variable all by itself is also considered an expression, because these always evaluates to itself.\n",
    "Any instruction that a python interpreter can execute is called a statement. Example: x=3/n print(x). The first line is an assignment statement that gives a value to x. The second line is a print statement statement that displays the value of x. When you type a statement then the interpreter executes it, Which means that it does whatever the statement says.\n"
   ]
  },
  {
   "cell_type": "code",
   "execution_count": 13,
   "id": "f47fc51d",
   "metadata": {},
   "outputs": [
    {
     "ename": "SyntaxError",
     "evalue": "invalid syntax (Temp/ipykernel_26192/2982930133.py, line 4)",
     "output_type": "error",
     "traceback": [
      "\u001b[1;36m  File \u001b[1;32m\"C:\\Users\\vkashamy\\AppData\\Local\\Temp/ipykernel_26192/2982930133.py\"\u001b[1;36m, line \u001b[1;32m4\u001b[0m\n\u001b[1;33m    ANS: 23. Because the value in variable is 22.\u001b[0m\n\u001b[1;37m             ^\u001b[0m\n\u001b[1;31mSyntaxError\u001b[0m\u001b[1;31m:\u001b[0m invalid syntax\n"
     ]
    }
   ],
   "source": [
    "#Q6. After running the following code, what does the variable bacon contain?\n",
    "bacon = 22\n",
    "bacon + 1\n",
    "ANS: 23. Because the value in variable is 22."
   ]
  },
  {
   "cell_type": "code",
   "execution_count": 14,
   "id": "174cd317",
   "metadata": {},
   "outputs": [],
   "source": [
    "#Q7. What should the values of the following two terms be?\n",
    "'spam' + 'spamspam'\n",
    "'spam' * 3\n",
    "ANS: 'spamspamspam'"
   ]
  },
  {
   "cell_type": "code",
   "execution_count": 15,
   "id": "a07631ee",
   "metadata": {},
   "outputs": [
    {
     "ename": "SyntaxError",
     "evalue": "invalid syntax (Temp/ipykernel_26192/1512860259.py, line 2)",
     "output_type": "error",
     "traceback": [
      "\u001b[1;36m  File \u001b[1;32m\"C:\\Users\\vkashamy\\AppData\\Local\\Temp/ipykernel_26192/1512860259.py\"\u001b[1;36m, line \u001b[1;32m2\u001b[0m\n\u001b[1;33m    ANS: Because a variable name can start with a letter or word or alpha-numeric characters and underscores but can not start with a number.\u001b[0m\n\u001b[1;37m                 ^\u001b[0m\n\u001b[1;31mSyntaxError\u001b[0m\u001b[1;31m:\u001b[0m invalid syntax\n"
     ]
    }
   ],
   "source": [
    "#Q8. Why is eggs a valid variable name while 100 is invalid?\n",
    "ANS: Because a variable name can start with a letter or word or alpha-numeric characters and underscores but can not start with a number."
   ]
  },
  {
   "cell_type": "code",
   "execution_count": 16,
   "id": "9e3a8ac5",
   "metadata": {},
   "outputs": [
    {
     "ename": "SyntaxError",
     "evalue": "unmatched ')' (Temp/ipykernel_26192/1937493305.py, line 2)",
     "output_type": "error",
     "traceback": [
      "\u001b[1;36m  File \u001b[1;32m\"C:\\Users\\vkashamy\\AppData\\Local\\Temp/ipykernel_26192/1937493305.py\"\u001b[1;36m, line \u001b[1;32m2\u001b[0m\n\u001b[1;33m    ANS: 1) int()        2) float()       3) str()\u001b[0m\n\u001b[1;37m          ^\u001b[0m\n\u001b[1;31mSyntaxError\u001b[0m\u001b[1;31m:\u001b[0m unmatched ')'\n"
     ]
    }
   ],
   "source": [
    "#Q9. What three functions can be used to get the integer, floating-point number, or string version of a value?\n",
    "ANS: 1) int()        2) float()       3) str()  "
   ]
  },
  {
   "cell_type": "code",
   "execution_count": 17,
   "id": "ffbeb74a",
   "metadata": {},
   "outputs": [
    {
     "ename": "SyntaxError",
     "evalue": "invalid syntax (Temp/ipykernel_26192/3629075377.py, line 3)",
     "output_type": "error",
     "traceback": [
      "\u001b[1;36m  File \u001b[1;32m\"C:\\Users\\vkashamy\\AppData\\Local\\Temp/ipykernel_26192/3629075377.py\"\u001b[1;36m, line \u001b[1;32m3\u001b[0m\n\u001b[1;33m    ANS: 99 is an integer and we are trying to concatenate string type with integer type. So, it will not work. To avoid this error use ‘99’ with string.\u001b[0m\n\u001b[1;37m                  ^\u001b[0m\n\u001b[1;31mSyntaxError\u001b[0m\u001b[1;31m:\u001b[0m invalid syntax\n"
     ]
    }
   ],
   "source": [
    "#Q10. Why does this expression cause an error? How can you fix it?\n",
    "'I have eaten ' + 99 + ' burritos.'\n",
    "ANS: 99 is an integer and we are trying to concatenate string type with integer type. So, it will not work. To avoid this error use ‘99’ with string.\n"
   ]
  },
  {
   "cell_type": "code",
   "execution_count": null,
   "id": "b0b6ee48",
   "metadata": {},
   "outputs": [],
   "source": []
  }
 ],
 "metadata": {
  "kernelspec": {
   "display_name": "Python 3 (ipykernel)",
   "language": "python",
   "name": "python3"
  },
  "language_info": {
   "codemirror_mode": {
    "name": "ipython",
    "version": 3
   },
   "file_extension": ".py",
   "mimetype": "text/x-python",
   "name": "python",
   "nbconvert_exporter": "python",
   "pygments_lexer": "ipython3",
   "version": "3.9.7"
  }
 },
 "nbformat": 4,
 "nbformat_minor": 5
}

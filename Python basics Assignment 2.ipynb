{
 "cells": [
  {
   "cell_type": "code",
   "execution_count": null,
   "id": "f7735766",
   "metadata": {},
   "outputs": [],
   "source": [
    "#Q1.What are the two values of the Boolean data type? How do you write them?\n",
    "ANS: True and False. Equivalent(==) operator returns true if two results are equal and Not equivalent(!=) operator returns true if the two results are not same.\n",
    "Examples:    "
   ]
  },
  {
   "cell_type": "code",
   "execution_count": 1,
   "id": "a9bb2c73",
   "metadata": {},
   "outputs": [
    {
     "name": "stdout",
     "output_type": "stream",
     "text": [
      "True\n"
     ]
    }
   ],
   "source": [
    "print(10>9)"
   ]
  },
  {
   "cell_type": "code",
   "execution_count": 2,
   "id": "d0b41982",
   "metadata": {},
   "outputs": [
    {
     "name": "stdout",
     "output_type": "stream",
     "text": [
      "b is not greater than a\n"
     ]
    }
   ],
   "source": [
    "a = 200\n",
    "b = 33\n",
    "if b > a:\n",
    "\tprint(\"b is greater than a\")\n",
    "else:\n",
    "\tprint(\"b is not greater than a\")\n"
   ]
  },
  {
   "cell_type": "code",
   "execution_count": 3,
   "id": "edc25f5e",
   "metadata": {},
   "outputs": [
    {
     "ename": "SyntaxError",
     "evalue": "invalid syntax (Temp/ipykernel_18784/3698070664.py, line 2)",
     "output_type": "error",
     "traceback": [
      "\u001b[1;36m  File \u001b[1;32m\"C:\\Users\\vkashamy\\AppData\\Local\\Temp/ipykernel_18784/3698070664.py\"\u001b[1;36m, line \u001b[1;32m2\u001b[0m\n\u001b[1;33m    ANS: And, or and not\u001b[0m\n\u001b[1;37m            ^\u001b[0m\n\u001b[1;31mSyntaxError\u001b[0m\u001b[1;31m:\u001b[0m invalid syntax\n"
     ]
    }
   ],
   "source": [
    "#Q2. What are the three different types of Boolean operators?\n",
    "ANS: AND, OR and NOT"
   ]
  },
  {
   "cell_type": "code",
   "execution_count": 4,
   "id": "bcd90894",
   "metadata": {},
   "outputs": [
    {
     "ename": "SyntaxError",
     "evalue": "invalid syntax (Temp/ipykernel_18784/642421912.py, line 2)",
     "output_type": "error",
     "traceback": [
      "\u001b[1;36m  File \u001b[1;32m\"C:\\Users\\vkashamy\\AppData\\Local\\Temp/ipykernel_18784/642421912.py\"\u001b[1;36m, line \u001b[1;32m2\u001b[0m\n\u001b[1;33m    AND Table: Returns True if both the operands are true\u001b[0m\n\u001b[1;37m        ^\u001b[0m\n\u001b[1;31mSyntaxError\u001b[0m\u001b[1;31m:\u001b[0m invalid syntax\n"
     ]
    }
   ],
   "source": [
    "#Q3. Make a list of each Boolean operator's truth tables (i.e. every possible combination of Boolean values for the operator and what it evaluate ).\n",
    "AND Table: Returns True if both the operands are true\n",
    "a   \tb\ta and b\n",
    "False\tFalse\tFalse\n",
    "False\tTrue\tFalse\n",
    "True\tFalse\tFalse\n",
    "True\tTrue\tTrue\n",
    "OR Table: Returns True if either of the operands is true\n",
    "a \tb\ta or b\n",
    "False\tFalse\tFalse\n",
    "False\tTrue\tTrue\n",
    "True \tFalse\tTrue\n",
    "True\tTrue\tTrue\n",
    "NOT Table:  Returns True  if operand is false\t\n",
    "a \tnot a\t\n",
    "False \tTrue\n",
    "True\tFalse\n"
   ]
  },
  {
   "cell_type": "code",
   "execution_count": null,
   "id": "b5243ec9",
   "metadata": {},
   "outputs": [],
   "source": [
    "#Q4. What are the values of the following expressions?\n",
    "(5 > 4) and (3 == 5)  \t\t\t: False\n",
    "not (5 > 4)\t\t\t\t: False\n",
    "(5 > 4) or (3 == 5)\t\t\t: True\n",
    "not ((5 > 4) or (3 == 5))\t\t\t: False\n",
    "(True and True) and (True == False)\t: False\n",
    "(not False) or (not True)\t\t\t: True\n"
   ]
  },
  {
   "cell_type": "code",
   "execution_count": null,
   "id": "0770337b",
   "metadata": {},
   "outputs": [],
   "source": [
    "#Q5. What are the six comparison operators? \n",
    "ANS: less than ( < ), greater than ( > ), equal to ( == ), not equal (!=), less than or equal to (<=), greater than or equal to(>=)\n"
   ]
  },
  {
   "cell_type": "code",
   "execution_count": null,
   "id": "79a8ed24",
   "metadata": {},
   "outputs": [],
   "source": [
    "#Q6. How do you tell the difference between the equal to and assignment operators?Describe a condition and when you would use one.\n",
    "ANS: The ‘=’ is an assignment operator, it requires one variable on its left and an expression on right  but ‘==’ operator checks whether the two given operands are equal or not. If so, it returns true. Otherwise it returns false.\n",
    "Example for assignment operator:  a =10, b=20, c = a+b\n",
    "Example for equal to or comparision operator:  (10+2) == 12\n"
   ]
  },
  {
   "cell_type": "code",
   "execution_count": null,
   "id": "5087db3d",
   "metadata": {},
   "outputs": [],
   "source": [
    "#Q7. Identify the three blocks in this code:\n",
    "spam = 0\n",
    "if spam == 10:\n",
    "print('eggs')\n",
    "if spam > 5:\n",
    "print('bacon')\n",
    "else:\n",
    "print('ham')\n",
    "print('spam')\n",
    "print('spam')\n",
    "ANS:  Indentation error in two if blocks and one else block.\n"
   ]
  },
  {
   "cell_type": "code",
   "execution_count": 5,
   "id": "7ea1c8be",
   "metadata": {},
   "outputs": [
    {
     "name": "stdout",
     "output_type": "stream",
     "text": [
      "enter your spam value1\n",
      "hello\n"
     ]
    }
   ],
   "source": [
    "#Q8. Write code that prints Hello if 1 is stored in spam, prints Howdy if 2 is stored in spam, and prints Greetings! if anything else is stored in spam.\n",
    "spam = int(input(\"enter your spam value\"))\n",
    "if spam == 1:\n",
    "    print(\"hello\")\n",
    "elif spam == 2:\n",
    "    print(\"howdy\")\n",
    "else:\n",
    "    print(\"greetings\")\n"
   ]
  },
  {
   "cell_type": "code",
   "execution_count": null,
   "id": "41364a9e",
   "metadata": {},
   "outputs": [],
   "source": [
    "#Q9.If your programme is stuck in an endless loop, what keys you’ll press?\n",
    "ANS: CNTRL+C\n"
   ]
  },
  {
   "cell_type": "code",
   "execution_count": 7,
   "id": "e50bf768",
   "metadata": {},
   "outputs": [
    {
     "name": "stdout",
     "output_type": "stream",
     "text": [
      "s\n",
      "t\n",
      "r\n",
      "The end\n",
      "s\n",
      "t\n",
      "r\n",
      "n\n",
      "g\n",
      "The end\n"
     ]
    }
   ],
   "source": [
    "#Q10. How can you tell the difference between break and continue?\n",
    "\"\"\"ANS:  The break statement terminates the loop containing it. Control of the program flows to the statement immediately after the body of the loop. If the break statement is inside a nested loop (loop inside another loop), the break statement will terminate the innermost loop.\n",
    "Example: \"\"\"\n",
    "for val in \"string\":\n",
    "    if val == \"i\":\n",
    "        break\n",
    "    print(val)\n",
    "print(\"The end\")\n",
    "\"\"\"The continue statement is used to skip the rest of the code inside a loop for the current iteration only. Loop does not terminate but continues on with the next iteration.\n",
    "Example:\"\"\"\n",
    "for val in \"string\":\n",
    "    if val == \"i\":\n",
    "        continue\n",
    "    print(val)\n",
    "print(\"The end\")\n"
   ]
  },
  {
   "cell_type": "code",
   "execution_count": null,
   "id": "b0f3ae14",
   "metadata": {},
   "outputs": [],
   "source": [
    "#Q11. In a for loop, what is the difference between range(10), range(0, 10), and range(0, 10, 1)?\n",
    "ANS: All three will print the same that is 0-9 but the difference is that, in range(10)  lower bound and step size is not mentioned, in range(0,10) the lower and upper bound are mentioned but not mentioned step size, in range(0,10,1) all three are mentioned that is lower bound, upper bound, step size. In all three conditions upper value is not included that is number 10.\n"
   ]
  },
  {
   "cell_type": "code",
   "execution_count": 9,
   "id": "28e4d3ae",
   "metadata": {},
   "outputs": [
    {
     "name": "stdout",
     "output_type": "stream",
     "text": [
      "1\n",
      "2\n",
      "3\n",
      "4\n",
      "5\n",
      "6\n",
      "7\n",
      "8\n",
      "9\n",
      "10\n",
      "1\n",
      "2\n",
      "3\n",
      "4\n",
      "5\n",
      "6\n",
      "7\n",
      "8\n",
      "9\n",
      "10\n"
     ]
    }
   ],
   "source": [
    "#Q12. Write a short program that prints the numbers 1 to 10 using a for loop. Then write an equivalent program that prints the numbers 1 to 10 using a while loop.\n",
    "#For loop:\n",
    "for i in range(1,11):\n",
    "    print(i)\n",
    "#while loop:\n",
    "i = 1\n",
    "while i<= 10:\n",
    "    print(i)\n",
    "    i+= 1\n"
   ]
  },
  {
   "cell_type": "code",
   "execution_count": null,
   "id": "d85fc8a7",
   "metadata": {},
   "outputs": [],
   "source": [
    "#Q13. If you had a function named bacon() inside a module named spam, how would you call it after importing spam?\n",
    "ANS: bacon() can be "
   ]
  }
 ],
 "metadata": {
  "kernelspec": {
   "display_name": "Python 3 (ipykernel)",
   "language": "python",
   "name": "python3"
  },
  "language_info": {
   "codemirror_mode": {
    "name": "ipython",
    "version": 3
   },
   "file_extension": ".py",
   "mimetype": "text/x-python",
   "name": "python",
   "nbconvert_exporter": "python",
   "pygments_lexer": "ipython3",
   "version": "3.9.7"
  }
 },
 "nbformat": 4,
 "nbformat_minor": 5
}
